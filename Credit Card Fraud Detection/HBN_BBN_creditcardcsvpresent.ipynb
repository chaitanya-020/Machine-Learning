{
 "cells": [
  {
   "cell_type": "code",
   "execution_count": 1,
   "id": "69b773f0",
   "metadata": {},
   "outputs": [],
   "source": [
    "import pandas as pd\n",
    "import numpy as np\n",
    "from imblearn.over_sampling import SMOTE\n",
    "\n",
    "from imblearn.over_sampling import RandomOverSampler \n",
    "import matplotlib.pyplot as plt\n",
    "%matplotlib inline\n",
    "import seaborn as sns\n",
    "from sklearn.naive_bayes import GaussianNB\n",
    "from pgmpy.models import BayesianModel\n",
    "from pgmpy.estimators import HillClimbSearch, MaximumLikelihoodEstimator\n",
    "from pgmpy.estimators import BayesianEstimator\n",
    "from pgmpy.inference import VariableElimination\n",
    "from hmmlearn.hmm import GaussianHMM\n",
    "from sklearn.metrics import classification_report\n",
    "\n",
    "from sklearn.preprocessing import LabelEncoder, StandardScaler\n",
    "from imblearn.over_sampling import RandomOverSampler \n",
    "from sklearn.model_selection import train_test_split, GridSearchCV\n",
    "from sklearn.metrics import accuracy_score, confusion_matrix\n",
    "\n",
    "import warnings\n",
    "warnings.filterwarnings('ignore')"
   ]
  },
  {
   "cell_type": "code",
   "execution_count": 2,
   "id": "d3aaced8",
   "metadata": {},
   "outputs": [
    {
     "data": {
      "text/html": [
       "<div>\n",
       "<style scoped>\n",
       "    .dataframe tbody tr th:only-of-type {\n",
       "        vertical-align: middle;\n",
       "    }\n",
       "\n",
       "    .dataframe tbody tr th {\n",
       "        vertical-align: top;\n",
       "    }\n",
       "\n",
       "    .dataframe thead th {\n",
       "        text-align: right;\n",
       "    }\n",
       "</style>\n",
       "<table border=\"1\" class=\"dataframe\">\n",
       "  <thead>\n",
       "    <tr style=\"text-align: right;\">\n",
       "      <th></th>\n",
       "      <th>Merchant_id</th>\n",
       "      <th>Average Amount/transaction/day</th>\n",
       "      <th>Transaction_amount</th>\n",
       "      <th>Is declined</th>\n",
       "      <th>Total Number of declines/day</th>\n",
       "      <th>isForeignTransaction</th>\n",
       "      <th>isHighRiskCountry</th>\n",
       "      <th>Daily_chargeback_avg_amt</th>\n",
       "      <th>6_month_avg_chbk_amt</th>\n",
       "      <th>6-month_chbk_freq</th>\n",
       "      <th>isFradulent</th>\n",
       "    </tr>\n",
       "  </thead>\n",
       "  <tbody>\n",
       "    <tr>\n",
       "      <th>0</th>\n",
       "      <td>3160040998</td>\n",
       "      <td>100.0</td>\n",
       "      <td>3000.0</td>\n",
       "      <td>N</td>\n",
       "      <td>5</td>\n",
       "      <td>Y</td>\n",
       "      <td>Y</td>\n",
       "      <td>0</td>\n",
       "      <td>0.0</td>\n",
       "      <td>0</td>\n",
       "      <td>Y</td>\n",
       "    </tr>\n",
       "    <tr>\n",
       "      <th>1</th>\n",
       "      <td>3160040998</td>\n",
       "      <td>100.0</td>\n",
       "      <td>4300.0</td>\n",
       "      <td>N</td>\n",
       "      <td>5</td>\n",
       "      <td>Y</td>\n",
       "      <td>Y</td>\n",
       "      <td>0</td>\n",
       "      <td>0.0</td>\n",
       "      <td>0</td>\n",
       "      <td>Y</td>\n",
       "    </tr>\n",
       "    <tr>\n",
       "      <th>2</th>\n",
       "      <td>3160041896</td>\n",
       "      <td>185.5</td>\n",
       "      <td>4823.0</td>\n",
       "      <td>Y</td>\n",
       "      <td>5</td>\n",
       "      <td>N</td>\n",
       "      <td>N</td>\n",
       "      <td>0</td>\n",
       "      <td>0.0</td>\n",
       "      <td>0</td>\n",
       "      <td>Y</td>\n",
       "    </tr>\n",
       "    <tr>\n",
       "      <th>3</th>\n",
       "      <td>3160141996</td>\n",
       "      <td>185.5</td>\n",
       "      <td>5008.5</td>\n",
       "      <td>Y</td>\n",
       "      <td>8</td>\n",
       "      <td>N</td>\n",
       "      <td>N</td>\n",
       "      <td>0</td>\n",
       "      <td>0.0</td>\n",
       "      <td>0</td>\n",
       "      <td>Y</td>\n",
       "    </tr>\n",
       "    <tr>\n",
       "      <th>4</th>\n",
       "      <td>3160241992</td>\n",
       "      <td>500.0</td>\n",
       "      <td>26000.0</td>\n",
       "      <td>N</td>\n",
       "      <td>0</td>\n",
       "      <td>Y</td>\n",
       "      <td>Y</td>\n",
       "      <td>800</td>\n",
       "      <td>677.2</td>\n",
       "      <td>6</td>\n",
       "      <td>Y</td>\n",
       "    </tr>\n",
       "    <tr>\n",
       "      <th>...</th>\n",
       "      <td>...</td>\n",
       "      <td>...</td>\n",
       "      <td>...</td>\n",
       "      <td>...</td>\n",
       "      <td>...</td>\n",
       "      <td>...</td>\n",
       "      <td>...</td>\n",
       "      <td>...</td>\n",
       "      <td>...</td>\n",
       "      <td>...</td>\n",
       "      <td>...</td>\n",
       "    </tr>\n",
       "    <tr>\n",
       "      <th>3070</th>\n",
       "      <td>6661273532</td>\n",
       "      <td>500.0</td>\n",
       "      <td>11000.0</td>\n",
       "      <td>Y</td>\n",
       "      <td>0</td>\n",
       "      <td>N</td>\n",
       "      <td>N</td>\n",
       "      <td>754</td>\n",
       "      <td>585.0</td>\n",
       "      <td>7</td>\n",
       "      <td>N</td>\n",
       "    </tr>\n",
       "    <tr>\n",
       "      <th>3071</th>\n",
       "      <td>6661273532</td>\n",
       "      <td>800.0</td>\n",
       "      <td>0.0</td>\n",
       "      <td>Y</td>\n",
       "      <td>0</td>\n",
       "      <td>N</td>\n",
       "      <td>N</td>\n",
       "      <td>754</td>\n",
       "      <td>585.0</td>\n",
       "      <td>7</td>\n",
       "      <td>N</td>\n",
       "    </tr>\n",
       "    <tr>\n",
       "      <th>3072</th>\n",
       "      <td>6661273533</td>\n",
       "      <td>800.0</td>\n",
       "      <td>20800.0</td>\n",
       "      <td>Y</td>\n",
       "      <td>0</td>\n",
       "      <td>N</td>\n",
       "      <td>N</td>\n",
       "      <td>754</td>\n",
       "      <td>585.0</td>\n",
       "      <td>7</td>\n",
       "      <td>N</td>\n",
       "    </tr>\n",
       "    <tr>\n",
       "      <th>3073</th>\n",
       "      <td>6661273532</td>\n",
       "      <td>1500.0</td>\n",
       "      <td>12000.0</td>\n",
       "      <td>Y</td>\n",
       "      <td>0</td>\n",
       "      <td>Y</td>\n",
       "      <td>Y</td>\n",
       "      <td>754</td>\n",
       "      <td>585.0</td>\n",
       "      <td>7</td>\n",
       "      <td>N</td>\n",
       "    </tr>\n",
       "    <tr>\n",
       "      <th>3074</th>\n",
       "      <td>6661273533</td>\n",
       "      <td>1500.0</td>\n",
       "      <td>36000.0</td>\n",
       "      <td>Y</td>\n",
       "      <td>0</td>\n",
       "      <td>Y</td>\n",
       "      <td>Y</td>\n",
       "      <td>754</td>\n",
       "      <td>585.0</td>\n",
       "      <td>7</td>\n",
       "      <td>N</td>\n",
       "    </tr>\n",
       "  </tbody>\n",
       "</table>\n",
       "<p>3075 rows × 11 columns</p>\n",
       "</div>"
      ],
      "text/plain": [
       "      Merchant_id  Average Amount/transaction/day  Transaction_amount  \\\n",
       "0      3160040998                           100.0              3000.0   \n",
       "1      3160040998                           100.0              4300.0   \n",
       "2      3160041896                           185.5              4823.0   \n",
       "3      3160141996                           185.5              5008.5   \n",
       "4      3160241992                           500.0             26000.0   \n",
       "...           ...                             ...                 ...   \n",
       "3070   6661273532                           500.0             11000.0   \n",
       "3071   6661273532                           800.0                 0.0   \n",
       "3072   6661273533                           800.0             20800.0   \n",
       "3073   6661273532                          1500.0             12000.0   \n",
       "3074   6661273533                          1500.0             36000.0   \n",
       "\n",
       "     Is declined  Total Number of declines/day isForeignTransaction  \\\n",
       "0              N                             5                    Y   \n",
       "1              N                             5                    Y   \n",
       "2              Y                             5                    N   \n",
       "3              Y                             8                    N   \n",
       "4              N                             0                    Y   \n",
       "...          ...                           ...                  ...   \n",
       "3070           Y                             0                    N   \n",
       "3071           Y                             0                    N   \n",
       "3072           Y                             0                    N   \n",
       "3073           Y                             0                    Y   \n",
       "3074           Y                             0                    Y   \n",
       "\n",
       "     isHighRiskCountry  Daily_chargeback_avg_amt  6_month_avg_chbk_amt  \\\n",
       "0                    Y                         0                   0.0   \n",
       "1                    Y                         0                   0.0   \n",
       "2                    N                         0                   0.0   \n",
       "3                    N                         0                   0.0   \n",
       "4                    Y                       800                 677.2   \n",
       "...                ...                       ...                   ...   \n",
       "3070                 N                       754                 585.0   \n",
       "3071                 N                       754                 585.0   \n",
       "3072                 N                       754                 585.0   \n",
       "3073                 Y                       754                 585.0   \n",
       "3074                 Y                       754                 585.0   \n",
       "\n",
       "      6-month_chbk_freq isFradulent  \n",
       "0                     0           Y  \n",
       "1                     0           Y  \n",
       "2                     0           Y  \n",
       "3                     0           Y  \n",
       "4                     6           Y  \n",
       "...                 ...         ...  \n",
       "3070                  7           N  \n",
       "3071                  7           N  \n",
       "3072                  7           N  \n",
       "3073                  7           N  \n",
       "3074                  7           N  \n",
       "\n",
       "[3075 rows x 11 columns]"
      ]
     },
     "execution_count": 2,
     "metadata": {},
     "output_type": "execute_result"
    }
   ],
   "source": [
    "df = pd.read_csv('creditcardcsvpresent.csv')\n",
    "df"
   ]
  },
  {
   "cell_type": "code",
   "execution_count": 3,
   "id": "63e41c5f",
   "metadata": {},
   "outputs": [
    {
     "data": {
      "text/plain": [
       "(3075, 11)"
      ]
     },
     "execution_count": 3,
     "metadata": {},
     "output_type": "execute_result"
    }
   ],
   "source": [
    "df.shape\n"
   ]
  },
  {
   "cell_type": "code",
   "execution_count": 4,
   "id": "3d5322d1",
   "metadata": {},
   "outputs": [
    {
     "name": "stdout",
     "output_type": "stream",
     "text": [
      "<class 'pandas.core.frame.DataFrame'>\n",
      "RangeIndex: 3075 entries, 0 to 3074\n",
      "Data columns (total 11 columns):\n",
      " #   Column                          Non-Null Count  Dtype  \n",
      "---  ------                          --------------  -----  \n",
      " 0   Merchant_id                     3075 non-null   int64  \n",
      " 1   Average Amount/transaction/day  3075 non-null   float64\n",
      " 2   Transaction_amount              3075 non-null   float64\n",
      " 3   Is declined                     3075 non-null   object \n",
      " 4   Total Number of declines/day    3075 non-null   int64  \n",
      " 5   isForeignTransaction            3075 non-null   object \n",
      " 6   isHighRiskCountry               3075 non-null   object \n",
      " 7   Daily_chargeback_avg_amt        3075 non-null   int64  \n",
      " 8   6_month_avg_chbk_amt            3075 non-null   float64\n",
      " 9   6-month_chbk_freq               3075 non-null   int64  \n",
      " 10  isFradulent                     3075 non-null   object \n",
      "dtypes: float64(3), int64(4), object(4)\n",
      "memory usage: 264.4+ KB\n"
     ]
    }
   ],
   "source": [
    "df.info()"
   ]
  },
  {
   "cell_type": "code",
   "execution_count": 5,
   "id": "c7734077",
   "metadata": {},
   "outputs": [
    {
     "data": {
      "text/html": [
       "<div>\n",
       "<style scoped>\n",
       "    .dataframe tbody tr th:only-of-type {\n",
       "        vertical-align: middle;\n",
       "    }\n",
       "\n",
       "    .dataframe tbody tr th {\n",
       "        vertical-align: top;\n",
       "    }\n",
       "\n",
       "    .dataframe thead th {\n",
       "        text-align: right;\n",
       "    }\n",
       "</style>\n",
       "<table border=\"1\" class=\"dataframe\">\n",
       "  <thead>\n",
       "    <tr style=\"text-align: right;\">\n",
       "      <th></th>\n",
       "      <th>Merchant_id</th>\n",
       "      <th>Average Amount/transaction/day</th>\n",
       "      <th>Transaction_amount</th>\n",
       "      <th>Is declined</th>\n",
       "      <th>Total Number of declines/day</th>\n",
       "      <th>isForeignTransaction</th>\n",
       "      <th>isHighRiskCountry</th>\n",
       "      <th>Daily_chargeback_avg_amt</th>\n",
       "      <th>6_month_avg_chbk_amt</th>\n",
       "      <th>6-month_chbk_freq</th>\n",
       "      <th>isFradulent</th>\n",
       "    </tr>\n",
       "  </thead>\n",
       "  <tbody>\n",
       "    <tr>\n",
       "      <th>0</th>\n",
       "      <td>3160040998</td>\n",
       "      <td>100.0</td>\n",
       "      <td>3000.0</td>\n",
       "      <td>N</td>\n",
       "      <td>5</td>\n",
       "      <td>Y</td>\n",
       "      <td>Y</td>\n",
       "      <td>0</td>\n",
       "      <td>0.0</td>\n",
       "      <td>0</td>\n",
       "      <td>Y</td>\n",
       "    </tr>\n",
       "    <tr>\n",
       "      <th>1</th>\n",
       "      <td>3160040998</td>\n",
       "      <td>100.0</td>\n",
       "      <td>4300.0</td>\n",
       "      <td>N</td>\n",
       "      <td>5</td>\n",
       "      <td>Y</td>\n",
       "      <td>Y</td>\n",
       "      <td>0</td>\n",
       "      <td>0.0</td>\n",
       "      <td>0</td>\n",
       "      <td>Y</td>\n",
       "    </tr>\n",
       "    <tr>\n",
       "      <th>2</th>\n",
       "      <td>3160041896</td>\n",
       "      <td>185.5</td>\n",
       "      <td>4823.0</td>\n",
       "      <td>Y</td>\n",
       "      <td>5</td>\n",
       "      <td>N</td>\n",
       "      <td>N</td>\n",
       "      <td>0</td>\n",
       "      <td>0.0</td>\n",
       "      <td>0</td>\n",
       "      <td>Y</td>\n",
       "    </tr>\n",
       "    <tr>\n",
       "      <th>3</th>\n",
       "      <td>3160141996</td>\n",
       "      <td>185.5</td>\n",
       "      <td>5008.5</td>\n",
       "      <td>Y</td>\n",
       "      <td>8</td>\n",
       "      <td>N</td>\n",
       "      <td>N</td>\n",
       "      <td>0</td>\n",
       "      <td>0.0</td>\n",
       "      <td>0</td>\n",
       "      <td>Y</td>\n",
       "    </tr>\n",
       "    <tr>\n",
       "      <th>4</th>\n",
       "      <td>3160241992</td>\n",
       "      <td>500.0</td>\n",
       "      <td>26000.0</td>\n",
       "      <td>N</td>\n",
       "      <td>0</td>\n",
       "      <td>Y</td>\n",
       "      <td>Y</td>\n",
       "      <td>800</td>\n",
       "      <td>677.2</td>\n",
       "      <td>6</td>\n",
       "      <td>Y</td>\n",
       "    </tr>\n",
       "  </tbody>\n",
       "</table>\n",
       "</div>"
      ],
      "text/plain": [
       "   Merchant_id  Average Amount/transaction/day  Transaction_amount  \\\n",
       "0   3160040998                           100.0              3000.0   \n",
       "1   3160040998                           100.0              4300.0   \n",
       "2   3160041896                           185.5              4823.0   \n",
       "3   3160141996                           185.5              5008.5   \n",
       "4   3160241992                           500.0             26000.0   \n",
       "\n",
       "  Is declined  Total Number of declines/day isForeignTransaction  \\\n",
       "0           N                             5                    Y   \n",
       "1           N                             5                    Y   \n",
       "2           Y                             5                    N   \n",
       "3           Y                             8                    N   \n",
       "4           N                             0                    Y   \n",
       "\n",
       "  isHighRiskCountry  Daily_chargeback_avg_amt  6_month_avg_chbk_amt  \\\n",
       "0                 Y                         0                   0.0   \n",
       "1                 Y                         0                   0.0   \n",
       "2                 N                         0                   0.0   \n",
       "3                 N                         0                   0.0   \n",
       "4                 Y                       800                 677.2   \n",
       "\n",
       "   6-month_chbk_freq isFradulent  \n",
       "0                  0           Y  \n",
       "1                  0           Y  \n",
       "2                  0           Y  \n",
       "3                  0           Y  \n",
       "4                  6           Y  "
      ]
     },
     "execution_count": 5,
     "metadata": {},
     "output_type": "execute_result"
    }
   ],
   "source": [
    "df.head()"
   ]
  },
  {
   "cell_type": "code",
   "execution_count": 6,
   "id": "627961ad",
   "metadata": {},
   "outputs": [],
   "source": [
    "dfFraud = df.loc[df.isFradulent == 'Y']\n",
    "dfNonFraud = df.loc[df.isFradulent == 'N']"
   ]
  },
  {
   "cell_type": "code",
   "execution_count": 7,
   "id": "42d10e5a",
   "metadata": {},
   "outputs": [
    {
     "data": {
      "text/plain": [
       "(448, 11)"
      ]
     },
     "execution_count": 7,
     "metadata": {},
     "output_type": "execute_result"
    }
   ],
   "source": [
    "dfFraud.shape"
   ]
  },
  {
   "cell_type": "code",
   "execution_count": 8,
   "id": "d8a249d1",
   "metadata": {},
   "outputs": [
    {
     "data": {
      "text/plain": [
       "(2627, 11)"
      ]
     },
     "execution_count": 8,
     "metadata": {},
     "output_type": "execute_result"
    }
   ],
   "source": [
    "dfNonFraud.shape"
   ]
  },
  {
   "cell_type": "code",
   "execution_count": 9,
   "id": "590a5213",
   "metadata": {},
   "outputs": [
    {
     "data": {
      "text/html": [
       "<div>\n",
       "<style scoped>\n",
       "    .dataframe tbody tr th:only-of-type {\n",
       "        vertical-align: middle;\n",
       "    }\n",
       "\n",
       "    .dataframe tbody tr th {\n",
       "        vertical-align: top;\n",
       "    }\n",
       "\n",
       "    .dataframe thead th {\n",
       "        text-align: right;\n",
       "    }\n",
       "</style>\n",
       "<table border=\"1\" class=\"dataframe\">\n",
       "  <thead>\n",
       "    <tr style=\"text-align: right;\">\n",
       "      <th></th>\n",
       "      <th>Merchant_id</th>\n",
       "      <th>Average Amount/transaction/day</th>\n",
       "      <th>Transaction_amount</th>\n",
       "      <th>Total Number of declines/day</th>\n",
       "      <th>Daily_chargeback_avg_amt</th>\n",
       "      <th>6_month_avg_chbk_amt</th>\n",
       "      <th>6-month_chbk_freq</th>\n",
       "    </tr>\n",
       "  </thead>\n",
       "  <tbody>\n",
       "    <tr>\n",
       "      <th>count</th>\n",
       "      <td>3.075000e+03</td>\n",
       "      <td>3075.000000</td>\n",
       "      <td>3075.000000</td>\n",
       "      <td>3075.000000</td>\n",
       "      <td>3075.000000</td>\n",
       "      <td>3075.000000</td>\n",
       "      <td>3075.000000</td>\n",
       "    </tr>\n",
       "    <tr>\n",
       "      <th>mean</th>\n",
       "      <td>5.026634e+09</td>\n",
       "      <td>515.026556</td>\n",
       "      <td>9876.399210</td>\n",
       "      <td>0.957398</td>\n",
       "      <td>55.737561</td>\n",
       "      <td>40.022407</td>\n",
       "      <td>0.391870</td>\n",
       "    </tr>\n",
       "    <tr>\n",
       "      <th>std</th>\n",
       "      <td>9.870778e+08</td>\n",
       "      <td>291.906978</td>\n",
       "      <td>10135.331016</td>\n",
       "      <td>2.192391</td>\n",
       "      <td>206.634779</td>\n",
       "      <td>155.968840</td>\n",
       "      <td>1.548479</td>\n",
       "    </tr>\n",
       "    <tr>\n",
       "      <th>min</th>\n",
       "      <td>3.160041e+09</td>\n",
       "      <td>4.011527</td>\n",
       "      <td>0.000000</td>\n",
       "      <td>0.000000</td>\n",
       "      <td>0.000000</td>\n",
       "      <td>0.000000</td>\n",
       "      <td>0.000000</td>\n",
       "    </tr>\n",
       "    <tr>\n",
       "      <th>25%</th>\n",
       "      <td>4.170814e+09</td>\n",
       "      <td>269.788047</td>\n",
       "      <td>2408.781147</td>\n",
       "      <td>0.000000</td>\n",
       "      <td>0.000000</td>\n",
       "      <td>0.000000</td>\n",
       "      <td>0.000000</td>\n",
       "    </tr>\n",
       "    <tr>\n",
       "      <th>50%</th>\n",
       "      <td>5.025578e+09</td>\n",
       "      <td>502.549575</td>\n",
       "      <td>6698.891856</td>\n",
       "      <td>0.000000</td>\n",
       "      <td>0.000000</td>\n",
       "      <td>0.000000</td>\n",
       "      <td>0.000000</td>\n",
       "    </tr>\n",
       "    <tr>\n",
       "      <th>75%</th>\n",
       "      <td>5.889625e+09</td>\n",
       "      <td>765.272803</td>\n",
       "      <td>14422.568935</td>\n",
       "      <td>0.000000</td>\n",
       "      <td>0.000000</td>\n",
       "      <td>0.000000</td>\n",
       "      <td>0.000000</td>\n",
       "    </tr>\n",
       "    <tr>\n",
       "      <th>max</th>\n",
       "      <td>6.665906e+09</td>\n",
       "      <td>2000.000000</td>\n",
       "      <td>108000.000000</td>\n",
       "      <td>20.000000</td>\n",
       "      <td>998.000000</td>\n",
       "      <td>998.000000</td>\n",
       "      <td>9.000000</td>\n",
       "    </tr>\n",
       "  </tbody>\n",
       "</table>\n",
       "</div>"
      ],
      "text/plain": [
       "        Merchant_id  Average Amount/transaction/day  Transaction_amount  \\\n",
       "count  3.075000e+03                     3075.000000         3075.000000   \n",
       "mean   5.026634e+09                      515.026556         9876.399210   \n",
       "std    9.870778e+08                      291.906978        10135.331016   \n",
       "min    3.160041e+09                        4.011527            0.000000   \n",
       "25%    4.170814e+09                      269.788047         2408.781147   \n",
       "50%    5.025578e+09                      502.549575         6698.891856   \n",
       "75%    5.889625e+09                      765.272803        14422.568935   \n",
       "max    6.665906e+09                     2000.000000       108000.000000   \n",
       "\n",
       "       Total Number of declines/day  Daily_chargeback_avg_amt  \\\n",
       "count                   3075.000000               3075.000000   \n",
       "mean                       0.957398                 55.737561   \n",
       "std                        2.192391                206.634779   \n",
       "min                        0.000000                  0.000000   \n",
       "25%                        0.000000                  0.000000   \n",
       "50%                        0.000000                  0.000000   \n",
       "75%                        0.000000                  0.000000   \n",
       "max                       20.000000                998.000000   \n",
       "\n",
       "       6_month_avg_chbk_amt  6-month_chbk_freq  \n",
       "count           3075.000000        3075.000000  \n",
       "mean              40.022407           0.391870  \n",
       "std              155.968840           1.548479  \n",
       "min                0.000000           0.000000  \n",
       "25%                0.000000           0.000000  \n",
       "50%                0.000000           0.000000  \n",
       "75%                0.000000           0.000000  \n",
       "max              998.000000           9.000000  "
      ]
     },
     "execution_count": 9,
     "metadata": {},
     "output_type": "execute_result"
    }
   ],
   "source": [
    "df.describe()"
   ]
  },
  {
   "cell_type": "code",
   "execution_count": 10,
   "id": "f1f6b540",
   "metadata": {},
   "outputs": [
    {
     "data": {
      "image/png": "[encoded data removed]",
      "text/plain": [
       "<Figure size 432x288 with 1 Axes>"
      ]
     },
     "metadata": {
      "needs_background": "light"
     },
     "output_type": "display_data"
    }
   ],
   "source": [
    "sns.countplot(x='isFradulent', data=df)\n",
    "plt.title('Distribution of Target Variable')\n",
    "plt.show()"
   ]
  },
  {
   "cell_type": "code",
   "execution_count": 11,
   "id": "247ea3b2",
   "metadata": {},
   "outputs": [
    {
     "data": {
      "image/png": "[encoded data removed]",
      "text/plain": [
       "<Figure size 720x576 with 2 Axes>"
      ]
     },
     "metadata": {
      "needs_background": "light"
     },
     "output_type": "display_data"
    }
   ],
   "source": [
    "corr_matrix = df.corr()\n",
    "plt.figure(figsize=(10, 8))\n",
    "sns.heatmap(corr_matrix, annot=True, cmap='coolwarm')\n",
    "plt.title('Correlation Matrix')\n",
    "plt.show()"
   ]
  },
  {
   "cell_type": "code",
   "execution_count": 12,
   "id": "e5b60c96",
   "metadata": {},
   "outputs": [],
   "source": [
    "categorical_features = ['Is declined', 'isForeignTransaction', 'isHighRiskCountry', 'isFradulent']"
   ]
  },
  {
   "cell_type": "code",
   "execution_count": 13,
   "id": "58e8bae3",
   "metadata": {},
   "outputs": [],
   "source": [
    "label_encoder = LabelEncoder()\n",
    "for feature in categorical_features:\n",
    "    df[feature] = label_encoder.fit_transform(df[feature])\n"
   ]
  },
  {
   "cell_type": "code",
   "execution_count": 14,
   "id": "b7a2a5ca",
   "metadata": {},
   "outputs": [
    {
     "data": {
      "text/html": [
       "<div>\n",
       "<style scoped>\n",
       "    .dataframe tbody tr th:only-of-type {\n",
       "        vertical-align: middle;\n",
       "    }\n",
       "\n",
       "    .dataframe tbody tr th {\n",
       "        vertical-align: top;\n",
       "    }\n",
       "\n",
       "    .dataframe thead th {\n",
       "        text-align: right;\n",
       "    }\n",
       "</style>\n",
       "<table border=\"1\" class=\"dataframe\">\n",
       "  <thead>\n",
       "    <tr style=\"text-align: right;\">\n",
       "      <th></th>\n",
       "      <th>Merchant_id</th>\n",
       "      <th>Average Amount/transaction/day</th>\n",
       "      <th>Transaction_amount</th>\n",
       "      <th>Is declined</th>\n",
       "      <th>Total Number of declines/day</th>\n",
       "      <th>isForeignTransaction</th>\n",
       "      <th>isHighRiskCountry</th>\n",
       "      <th>Daily_chargeback_avg_amt</th>\n",
       "      <th>6_month_avg_chbk_amt</th>\n",
       "      <th>6-month_chbk_freq</th>\n",
       "      <th>isFradulent</th>\n",
       "    </tr>\n",
       "  </thead>\n",
       "  <tbody>\n",
       "    <tr>\n",
       "      <th>0</th>\n",
       "      <td>3160040998</td>\n",
       "      <td>100.0</td>\n",
       "      <td>3000.0</td>\n",
       "      <td>0</td>\n",
       "      <td>5</td>\n",
       "      <td>1</td>\n",
       "      <td>1</td>\n",
       "      <td>0</td>\n",
       "      <td>0.0</td>\n",
       "      <td>0</td>\n",
       "      <td>1</td>\n",
       "    </tr>\n",
       "    <tr>\n",
       "      <th>1</th>\n",
       "      <td>3160040998</td>\n",
       "      <td>100.0</td>\n",
       "      <td>4300.0</td>\n",
       "      <td>0</td>\n",
       "      <td>5</td>\n",
       "      <td>1</td>\n",
       "      <td>1</td>\n",
       "      <td>0</td>\n",
       "      <td>0.0</td>\n",
       "      <td>0</td>\n",
       "      <td>1</td>\n",
       "    </tr>\n",
       "    <tr>\n",
       "      <th>2</th>\n",
       "      <td>3160041896</td>\n",
       "      <td>185.5</td>\n",
       "      <td>4823.0</td>\n",
       "      <td>1</td>\n",
       "      <td>5</td>\n",
       "      <td>0</td>\n",
       "      <td>0</td>\n",
       "      <td>0</td>\n",
       "      <td>0.0</td>\n",
       "      <td>0</td>\n",
       "      <td>1</td>\n",
       "    </tr>\n",
       "    <tr>\n",
       "      <th>3</th>\n",
       "      <td>3160141996</td>\n",
       "      <td>185.5</td>\n",
       "      <td>5008.5</td>\n",
       "      <td>1</td>\n",
       "      <td>8</td>\n",
       "      <td>0</td>\n",
       "      <td>0</td>\n",
       "      <td>0</td>\n",
       "      <td>0.0</td>\n",
       "      <td>0</td>\n",
       "      <td>1</td>\n",
       "    </tr>\n",
       "    <tr>\n",
       "      <th>4</th>\n",
       "      <td>3160241992</td>\n",
       "      <td>500.0</td>\n",
       "      <td>26000.0</td>\n",
       "      <td>0</td>\n",
       "      <td>0</td>\n",
       "      <td>1</td>\n",
       "      <td>1</td>\n",
       "      <td>800</td>\n",
       "      <td>677.2</td>\n",
       "      <td>6</td>\n",
       "      <td>1</td>\n",
       "    </tr>\n",
       "    <tr>\n",
       "      <th>...</th>\n",
       "      <td>...</td>\n",
       "      <td>...</td>\n",
       "      <td>...</td>\n",
       "      <td>...</td>\n",
       "      <td>...</td>\n",
       "      <td>...</td>\n",
       "      <td>...</td>\n",
       "      <td>...</td>\n",
       "      <td>...</td>\n",
       "      <td>...</td>\n",
       "      <td>...</td>\n",
       "    </tr>\n",
       "    <tr>\n",
       "      <th>3070</th>\n",
       "      <td>6661273532</td>\n",
       "      <td>500.0</td>\n",
       "      <td>11000.0</td>\n",
       "      <td>1</td>\n",
       "      <td>0</td>\n",
       "      <td>0</td>\n",
       "      <td>0</td>\n",
       "      <td>754</td>\n",
       "      <td>585.0</td>\n",
       "      <td>7</td>\n",
       "      <td>0</td>\n",
       "    </tr>\n",
       "    <tr>\n",
       "      <th>3071</th>\n",
       "      <td>6661273532</td>\n",
       "      <td>800.0</td>\n",
       "      <td>0.0</td>\n",
       "      <td>1</td>\n",
       "      <td>0</td>\n",
       "      <td>0</td>\n",
       "      <td>0</td>\n",
       "      <td>754</td>\n",
       "      <td>585.0</td>\n",
       "      <td>7</td>\n",
       "      <td>0</td>\n",
       "    </tr>\n",
       "    <tr>\n",
       "      <th>3072</th>\n",
       "      <td>6661273533</td>\n",
       "      <td>800.0</td>\n",
       "      <td>20800.0</td>\n",
       "      <td>1</td>\n",
       "      <td>0</td>\n",
       "      <td>0</td>\n",
       "      <td>0</td>\n",
       "      <td>754</td>\n",
       "      <td>585.0</td>\n",
       "      <td>7</td>\n",
       "      <td>0</td>\n",
       "    </tr>\n",
       "    <tr>\n",
       "      <th>3073</th>\n",
       "      <td>6661273532</td>\n",
       "      <td>1500.0</td>\n",
       "      <td>12000.0</td>\n",
       "      <td>1</td>\n",
       "      <td>0</td>\n",
       "      <td>1</td>\n",
       "      <td>1</td>\n",
       "      <td>754</td>\n",
       "      <td>585.0</td>\n",
       "      <td>7</td>\n",
       "      <td>0</td>\n",
       "    </tr>\n",
       "    <tr>\n",
       "      <th>3074</th>\n",
       "      <td>6661273533</td>\n",
       "      <td>1500.0</td>\n",
       "      <td>36000.0</td>\n",
       "      <td>1</td>\n",
       "      <td>0</td>\n",
       "      <td>1</td>\n",
       "      <td>1</td>\n",
       "      <td>754</td>\n",
       "      <td>585.0</td>\n",
       "      <td>7</td>\n",
       "      <td>0</td>\n",
       "    </tr>\n",
       "  </tbody>\n",
       "</table>\n",
       "<p>3075 rows × 11 columns</p>\n",
       "</div>"
      ],
      "text/plain": [
       "      Merchant_id  Average Amount/transaction/day  Transaction_amount  \\\n",
       "0      3160040998                           100.0              3000.0   \n",
       "1      3160040998                           100.0              4300.0   \n",
       "2      3160041896                           185.5              4823.0   \n",
       "3      3160141996                           185.5              5008.5   \n",
       "4      3160241992                           500.0             26000.0   \n",
       "...           ...                             ...                 ...   \n",
       "3070   6661273532                           500.0             11000.0   \n",
       "3071   6661273532                           800.0                 0.0   \n",
       "3072   6661273533                           800.0             20800.0   \n",
       "3073   6661273532                          1500.0             12000.0   \n",
       "3074   6661273533                          1500.0             36000.0   \n",
       "\n",
       "      Is declined  Total Number of declines/day  isForeignTransaction  \\\n",
       "0               0                             5                     1   \n",
       "1               0                             5                     1   \n",
       "2               1                             5                     0   \n",
       "3               1                             8                     0   \n",
       "4               0                             0                     1   \n",
       "...           ...                           ...                   ...   \n",
       "3070            1                             0                     0   \n",
       "3071            1                             0                     0   \n",
       "3072            1                             0                     0   \n",
       "3073            1                             0                     1   \n",
       "3074            1                             0                     1   \n",
       "\n",
       "      isHighRiskCountry  Daily_chargeback_avg_amt  6_month_avg_chbk_amt  \\\n",
       "0                     1                         0                   0.0   \n",
       "1                     1                         0                   0.0   \n",
       "2                     0                         0                   0.0   \n",
       "3                     0                         0                   0.0   \n",
       "4                     1                       800                 677.2   \n",
       "...                 ...                       ...                   ...   \n",
       "3070                  0                       754                 585.0   \n",
       "3071                  0                       754                 585.0   \n",
       "3072                  0                       754                 585.0   \n",
       "3073                  1                       754                 585.0   \n",
       "3074                  1                       754                 585.0   \n",
       "\n",
       "      6-month_chbk_freq  isFradulent  \n",
       "0                     0            1  \n",
       "1                     0            1  \n",
       "2                     0            1  \n",
       "3                     0            1  \n",
       "4                     6            1  \n",
       "...                 ...          ...  \n",
       "3070                  7            0  \n",
       "3071                  7            0  \n",
       "3072                  7            0  \n",
       "3073                  7            0  \n",
       "3074                  7            0  \n",
       "\n",
       "[3075 rows x 11 columns]"
      ]
     },
     "execution_count": 14,
     "metadata": {},
     "output_type": "execute_result"
    }
   ],
   "source": [
    "df"
   ]
  },
  {
   "cell_type": "code",
   "execution_count": 15,
   "id": "db27dc39",
   "metadata": {},
   "outputs": [],
   "source": [
    "X_hbn=df.drop('isFradulent',axis=1)\n",
    "y_hbn=df['isFradulent']"
   ]
  },
  {
   "cell_type": "code",
   "execution_count": 16,
   "id": "fd178616",
   "metadata": {},
   "outputs": [],
   "source": [
    "scaler = StandardScaler()\n",
    "scaled_X = scaler.fit_transform(X_hbn)\n"
   ]
  },
  {
   "cell_type": "code",
   "execution_count": 17,
   "id": "6cb722e5",
   "metadata": {},
   "outputs": [
    {
     "data": {
      "text/plain": [
       "array([[-1.89133721, -1.42200799, -0.67856862, ..., -0.26978337,\n",
       "        -0.25664688, -0.25310881],\n",
       "       [-1.89133721, -1.42200799, -0.55028357, ..., -0.26978337,\n",
       "        -0.25664688, -0.25310881],\n",
       "       [-1.8913363 , -1.12905883, -0.49867351, ..., -0.26978337,\n",
       "        -0.25664688, -0.25310881],\n",
       "       ...,\n",
       "       [ 1.65630811,  0.97640623,  1.07794974, ...,  3.37976021,\n",
       "         3.49471235,  4.26819179],\n",
       "       [ 1.65630811,  3.37482045,  0.20955864, ...,  3.37976021,\n",
       "         3.49471235,  4.26819179],\n",
       "       [ 1.65630811,  3.37482045,  2.577898  , ...,  3.37976021,\n",
       "         3.49471235,  4.26819179]])"
      ]
     },
     "execution_count": 17,
     "metadata": {},
     "output_type": "execute_result"
    }
   ],
   "source": [
    "scaled_X"
   ]
  },
  {
   "cell_type": "code",
   "execution_count": 18,
   "id": "ea8bef62",
   "metadata": {},
   "outputs": [
    {
     "data": {
      "text/html": [
       "<div>\n",
       "<style scoped>\n",
       "    .dataframe tbody tr th:only-of-type {\n",
       "        vertical-align: middle;\n",
       "    }\n",
       "\n",
       "    .dataframe tbody tr th {\n",
       "        vertical-align: top;\n",
       "    }\n",
       "\n",
       "    .dataframe thead th {\n",
       "        text-align: right;\n",
       "    }\n",
       "</style>\n",
       "<table border=\"1\" class=\"dataframe\">\n",
       "  <thead>\n",
       "    <tr style=\"text-align: right;\">\n",
       "      <th></th>\n",
       "      <th>Merchant_id</th>\n",
       "      <th>Average Amount/transaction/day</th>\n",
       "      <th>Transaction_amount</th>\n",
       "      <th>Is declined</th>\n",
       "      <th>Total Number of declines/day</th>\n",
       "      <th>isForeignTransaction</th>\n",
       "      <th>isHighRiskCountry</th>\n",
       "      <th>Daily_chargeback_avg_amt</th>\n",
       "      <th>6_month_avg_chbk_amt</th>\n",
       "      <th>6-month_chbk_freq</th>\n",
       "    </tr>\n",
       "  </thead>\n",
       "  <tbody>\n",
       "    <tr>\n",
       "      <th>0</th>\n",
       "      <td>-1.891337</td>\n",
       "      <td>-1.422008</td>\n",
       "      <td>-0.678569</td>\n",
       "      <td>-0.137429</td>\n",
       "      <td>1.844224</td>\n",
       "      <td>1.831809</td>\n",
       "      <td>3.741657</td>\n",
       "      <td>-0.269783</td>\n",
       "      <td>-0.256647</td>\n",
       "      <td>-0.253109</td>\n",
       "    </tr>\n",
       "    <tr>\n",
       "      <th>1</th>\n",
       "      <td>-1.891337</td>\n",
       "      <td>-1.422008</td>\n",
       "      <td>-0.550284</td>\n",
       "      <td>-0.137429</td>\n",
       "      <td>1.844224</td>\n",
       "      <td>1.831809</td>\n",
       "      <td>3.741657</td>\n",
       "      <td>-0.269783</td>\n",
       "      <td>-0.256647</td>\n",
       "      <td>-0.253109</td>\n",
       "    </tr>\n",
       "    <tr>\n",
       "      <th>2</th>\n",
       "      <td>-1.891336</td>\n",
       "      <td>-1.129059</td>\n",
       "      <td>-0.498674</td>\n",
       "      <td>7.276494</td>\n",
       "      <td>1.844224</td>\n",
       "      <td>-0.545908</td>\n",
       "      <td>-0.267261</td>\n",
       "      <td>-0.269783</td>\n",
       "      <td>-0.256647</td>\n",
       "      <td>-0.253109</td>\n",
       "    </tr>\n",
       "    <tr>\n",
       "      <th>3</th>\n",
       "      <td>-1.891235</td>\n",
       "      <td>-1.129059</td>\n",
       "      <td>-0.480368</td>\n",
       "      <td>7.276494</td>\n",
       "      <td>3.212815</td>\n",
       "      <td>-0.545908</td>\n",
       "      <td>-0.267261</td>\n",
       "      <td>-0.269783</td>\n",
       "      <td>-0.256647</td>\n",
       "      <td>-0.253109</td>\n",
       "    </tr>\n",
       "    <tr>\n",
       "      <th>4</th>\n",
       "      <td>-1.891134</td>\n",
       "      <td>-0.051486</td>\n",
       "      <td>1.591090</td>\n",
       "      <td>-0.137429</td>\n",
       "      <td>-0.436762</td>\n",
       "      <td>1.831809</td>\n",
       "      <td>3.741657</td>\n",
       "      <td>3.602411</td>\n",
       "      <td>4.085952</td>\n",
       "      <td>3.622292</td>\n",
       "    </tr>\n",
       "    <tr>\n",
       "      <th>...</th>\n",
       "      <td>...</td>\n",
       "      <td>...</td>\n",
       "      <td>...</td>\n",
       "      <td>...</td>\n",
       "      <td>...</td>\n",
       "      <td>...</td>\n",
       "      <td>...</td>\n",
       "      <td>...</td>\n",
       "      <td>...</td>\n",
       "      <td>...</td>\n",
       "    </tr>\n",
       "    <tr>\n",
       "      <th>3070</th>\n",
       "      <td>1.656308</td>\n",
       "      <td>-0.051486</td>\n",
       "      <td>0.110878</td>\n",
       "      <td>7.276494</td>\n",
       "      <td>-0.436762</td>\n",
       "      <td>-0.545908</td>\n",
       "      <td>-0.267261</td>\n",
       "      <td>3.379760</td>\n",
       "      <td>3.494712</td>\n",
       "      <td>4.268192</td>\n",
       "    </tr>\n",
       "    <tr>\n",
       "      <th>3071</th>\n",
       "      <td>1.656308</td>\n",
       "      <td>0.976406</td>\n",
       "      <td>-0.974611</td>\n",
       "      <td>7.276494</td>\n",
       "      <td>-0.436762</td>\n",
       "      <td>-0.545908</td>\n",
       "      <td>-0.267261</td>\n",
       "      <td>3.379760</td>\n",
       "      <td>3.494712</td>\n",
       "      <td>4.268192</td>\n",
       "    </tr>\n",
       "    <tr>\n",
       "      <th>3072</th>\n",
       "      <td>1.656308</td>\n",
       "      <td>0.976406</td>\n",
       "      <td>1.077950</td>\n",
       "      <td>7.276494</td>\n",
       "      <td>-0.436762</td>\n",
       "      <td>-0.545908</td>\n",
       "      <td>-0.267261</td>\n",
       "      <td>3.379760</td>\n",
       "      <td>3.494712</td>\n",
       "      <td>4.268192</td>\n",
       "    </tr>\n",
       "    <tr>\n",
       "      <th>3073</th>\n",
       "      <td>1.656308</td>\n",
       "      <td>3.374820</td>\n",
       "      <td>0.209559</td>\n",
       "      <td>7.276494</td>\n",
       "      <td>-0.436762</td>\n",
       "      <td>1.831809</td>\n",
       "      <td>3.741657</td>\n",
       "      <td>3.379760</td>\n",
       "      <td>3.494712</td>\n",
       "      <td>4.268192</td>\n",
       "    </tr>\n",
       "    <tr>\n",
       "      <th>3074</th>\n",
       "      <td>1.656308</td>\n",
       "      <td>3.374820</td>\n",
       "      <td>2.577898</td>\n",
       "      <td>7.276494</td>\n",
       "      <td>-0.436762</td>\n",
       "      <td>1.831809</td>\n",
       "      <td>3.741657</td>\n",
       "      <td>3.379760</td>\n",
       "      <td>3.494712</td>\n",
       "      <td>4.268192</td>\n",
       "    </tr>\n",
       "  </tbody>\n",
       "</table>\n",
       "<p>3075 rows × 10 columns</p>\n",
       "</div>"
      ],
      "text/plain": [
       "      Merchant_id  Average Amount/transaction/day  Transaction_amount  \\\n",
       "0       -1.891337                       -1.422008           -0.678569   \n",
       "1       -1.891337                       -1.422008           -0.550284   \n",
       "2       -1.891336                       -1.129059           -0.498674   \n",
       "3       -1.891235                       -1.129059           -0.480368   \n",
       "4       -1.891134                       -0.051486            1.591090   \n",
       "...           ...                             ...                 ...   \n",
       "3070     1.656308                       -0.051486            0.110878   \n",
       "3071     1.656308                        0.976406           -0.974611   \n",
       "3072     1.656308                        0.976406            1.077950   \n",
       "3073     1.656308                        3.374820            0.209559   \n",
       "3074     1.656308                        3.374820            2.577898   \n",
       "\n",
       "      Is declined  Total Number of declines/day  isForeignTransaction  \\\n",
       "0       -0.137429                      1.844224              1.831809   \n",
       "1       -0.137429                      1.844224              1.831809   \n",
       "2        7.276494                      1.844224             -0.545908   \n",
       "3        7.276494                      3.212815             -0.545908   \n",
       "4       -0.137429                     -0.436762              1.831809   \n",
       "...           ...                           ...                   ...   \n",
       "3070     7.276494                     -0.436762             -0.545908   \n",
       "3071     7.276494                     -0.436762             -0.545908   \n",
       "3072     7.276494                     -0.436762             -0.545908   \n",
       "3073     7.276494                     -0.436762              1.831809   \n",
       "3074     7.276494                     -0.436762              1.831809   \n",
       "\n",
       "      isHighRiskCountry  Daily_chargeback_avg_amt  6_month_avg_chbk_amt  \\\n",
       "0              3.741657                 -0.269783             -0.256647   \n",
       "1              3.741657                 -0.269783             -0.256647   \n",
       "2             -0.267261                 -0.269783             -0.256647   \n",
       "3             -0.267261                 -0.269783             -0.256647   \n",
       "4              3.741657                  3.602411              4.085952   \n",
       "...                 ...                       ...                   ...   \n",
       "3070          -0.267261                  3.379760              3.494712   \n",
       "3071          -0.267261                  3.379760              3.494712   \n",
       "3072          -0.267261                  3.379760              3.494712   \n",
       "3073           3.741657                  3.379760              3.494712   \n",
       "3074           3.741657                  3.379760              3.494712   \n",
       "\n",
       "      6-month_chbk_freq  \n",
       "0             -0.253109  \n",
       "1             -0.253109  \n",
       "2             -0.253109  \n",
       "3             -0.253109  \n",
       "4              3.622292  \n",
       "...                 ...  \n",
       "3070           4.268192  \n",
       "3071           4.268192  \n",
       "3072           4.268192  \n",
       "3073           4.268192  \n",
       "3074           4.268192  \n",
       "\n",
       "[3075 rows x 10 columns]"
      ]
     },
     "execution_count": 18,
     "metadata": {},
     "output_type": "execute_result"
    }
   ],
   "source": [
    "scaled_X_df = pd.DataFrame(scaled_X, columns=X_hbn.columns)\n",
    "X_hbn=scaled_X_df\n",
    "X_hbn"
   ]
  },
  {
   "cell_type": "code",
   "execution_count": 19,
   "id": "9da78e11",
   "metadata": {},
   "outputs": [
    {
     "data": {
      "text/plain": [
       "<AxesSubplot:xlabel='isFradulent', ylabel='count'>"
      ]
     },
     "execution_count": 19,
     "metadata": {},
     "output_type": "execute_result"
    },
    {
     "data": {
      "image/png": "[encoded data removed]",
      "text/plain": [
       "<Figure size 432x288 with 1 Axes>"
      ]
     },
     "metadata": {
      "needs_background": "light"
     },
     "output_type": "display_data"
    }
   ],
   "source": [
    "sns.countplot(x=y_hbn)"
   ]
  },
  {
   "cell_type": "code",
   "execution_count": 20,
   "id": "d84f120d",
   "metadata": {},
   "outputs": [],
   "source": [
    "X_train, X_test, y_train, y_test = train_test_split(X_hbn, y_hbn, test_size=0.2, random_state=42)"
   ]
  },
  {
   "cell_type": "code",
   "execution_count": 21,
   "id": "7d427cf2",
   "metadata": {},
   "outputs": [],
   "source": [
    "oversampler = RandomOverSampler(random_state=21)\n",
    "X_resampled, y_resampled = oversampler.fit_resample(X_train, y_train)"
   ]
  },
  {
   "cell_type": "code",
   "execution_count": 22,
   "id": "6701a84c",
   "metadata": {},
   "outputs": [
    {
     "data": {
      "text/plain": [
       "<AxesSubplot:xlabel='isFradulent', ylabel='count'>"
      ]
     },
     "execution_count": 22,
     "metadata": {},
     "output_type": "execute_result"
    },
    {
     "data": {
      "image/png": "[encoded data removed]",
      "text/plain": [
       "<Figure size 432x288 with 1 Axes>"
      ]
     },
     "metadata": {
      "needs_background": "light"
     },
     "output_type": "display_data"
    }
   ],
   "source": [
    "sns.countplot(x=y_resampled)"
   ]
  },
  {
   "cell_type": "code",
   "execution_count": 23,
   "id": "ce04f0f9",
   "metadata": {},
   "outputs": [],
   "source": [
    "\n",
    "param_grid = {'var_smoothing': [1e+10,1e+11]}\n",
    "\n",
    "hidden_naive_bayes = GaussianNB()\n",
    "\n",
    "grid_search = GridSearchCV(hidden_naive_bayes, param_grid=param_grid, cv=5)\n",
    "grid_search.fit(X_resampled, y_resampled)\n",
    "\n",
    "best_params = grid_search.best_params_\n",
    "best_model = grid_search.best_estimator_"
   ]
  },
  {
   "cell_type": "code",
   "execution_count": 24,
   "id": "ace5f2bb",
   "metadata": {},
   "outputs": [],
   "source": [
    "y_pred_hbn= best_model.predict(X_test)"
   ]
  },
  {
   "cell_type": "code",
   "execution_count": 25,
   "id": "ec46bd3b",
   "metadata": {},
   "outputs": [
    {
     "data": {
      "text/plain": [
       "array([0, 0, 0, 0, 0, 0, 0, 0, 0, 0, 0, 0, 0, 0, 0, 0, 0, 0, 0, 0, 0, 0,\n",
       "       1, 0, 0, 0, 0, 0, 0, 0, 0, 0, 0, 0, 0, 0, 0, 0, 0, 0, 0, 0, 0, 0,\n",
       "       0, 0, 0, 0, 0, 0, 0, 0, 0, 0, 0, 0, 0, 0, 0, 0, 0, 0, 0, 0, 0, 0,\n",
       "       0, 0, 0, 0, 0, 0, 0, 0, 0, 0, 0, 0, 0, 0, 0, 0, 0, 0, 0, 0, 0, 0,\n",
       "       0, 0, 0, 0, 0, 0, 0, 0, 0, 0, 0, 0, 0, 0, 0, 0, 0, 0, 0, 0, 1, 0,\n",
       "       0, 0, 0, 0, 0, 0, 0, 0, 0, 0, 0, 0, 0, 0, 0, 0, 0, 0, 0, 0, 0, 0,\n",
       "       0, 0, 0, 0, 0, 0, 0, 0, 0, 0, 0, 0, 0, 0, 0, 0, 0, 0, 0, 0, 0, 0,\n",
       "       0, 0, 0, 0, 0, 0, 0, 0, 0, 0, 0, 0, 0, 0, 0, 0, 0, 0, 0, 0, 0, 0,\n",
       "       0, 0, 0, 0, 0, 0, 0, 0, 0, 0, 0, 0, 0, 0, 0, 0, 0, 1, 0, 0, 0, 0,\n",
       "       0, 0, 0, 0, 0, 0, 0, 0, 1, 0, 0, 0, 0, 0, 0, 0, 0, 0, 0, 0, 0, 0,\n",
       "       1, 0, 0, 0, 0, 0, 0, 0, 0, 0, 0, 0, 0, 0, 0, 0, 0, 0, 0, 0, 0, 0,\n",
       "       0, 0, 0, 0, 0, 0, 0, 0, 0, 0, 0, 0, 0, 0, 1, 0, 0, 0, 0, 0, 0, 1,\n",
       "       0, 1, 0, 0, 0, 0, 0, 0, 0, 0, 0, 1, 0, 0, 0, 0, 0, 0, 0, 0, 0, 0,\n",
       "       0, 0, 0, 0, 0, 0, 0, 0, 1, 0, 0, 0, 0, 0, 0, 0, 0, 0, 0, 0, 1, 0,\n",
       "       0, 0, 0, 0, 0, 0, 0, 0, 0, 0, 0, 0, 0, 0, 0, 0, 0, 0, 0, 0, 0, 0,\n",
       "       0, 0, 0, 0, 0, 0, 0, 1, 0, 0, 0, 0, 0, 0, 0, 0, 0, 0, 0, 0, 0, 0,\n",
       "       0, 0, 0, 0, 0, 0, 0, 0, 0, 0, 0, 0, 0, 1, 0, 0, 0, 0, 0, 0, 0, 0,\n",
       "       0, 0, 0, 0, 0, 0, 0, 0, 0, 0, 0, 0, 0, 0, 0, 0, 0, 0, 0, 0, 0, 0,\n",
       "       0, 0, 0, 0, 0, 0, 0, 0, 0, 0, 0, 0, 1, 0, 0, 0, 0, 0, 0, 0, 0, 0,\n",
       "       0, 0, 0, 0, 0, 0, 0, 0, 0, 0, 1, 0, 0, 0, 0, 0, 0, 0, 0, 0, 1, 0,\n",
       "       0, 0, 0, 1, 0, 0, 0, 0, 0, 0, 0, 0, 0, 0, 1, 0, 0, 0, 0, 0, 0, 0,\n",
       "       0, 0, 0, 0, 0, 0, 0, 0, 0, 0, 0, 0, 0, 0, 0, 0, 0, 0, 0, 0, 0, 0,\n",
       "       0, 0, 0, 0, 0, 0, 0, 0, 0, 0, 0, 0, 0, 0, 0, 0, 0, 0, 0, 0, 0, 0,\n",
       "       0, 0, 0, 1, 0, 0, 0, 0, 0, 0, 1, 1, 0, 0, 0, 0, 0, 0, 0, 0, 0, 0,\n",
       "       0, 0, 0, 0, 0, 0, 0, 0, 0, 0, 0, 0, 0, 0, 0, 0, 0, 0, 0, 0, 0, 0,\n",
       "       0, 0, 0, 0, 1, 0, 0, 0, 0, 0, 0, 0, 0, 0, 0, 0, 0, 0, 0, 0, 0, 0,\n",
       "       0, 0, 0, 0, 0, 0, 0, 0, 0, 0, 0, 0, 0, 0, 0, 0, 0, 0, 0, 0, 0, 0,\n",
       "       0, 0, 1, 0, 0, 0, 0, 0, 0, 0, 0, 0, 1, 0, 0, 0, 0, 0, 0, 0, 0])"
      ]
     },
     "execution_count": 25,
     "metadata": {},
     "output_type": "execute_result"
    }
   ],
   "source": [
    "y_pred_hbn"
   ]
  },
  {
   "cell_type": "code",
   "execution_count": 26,
   "id": "a66faa5d",
   "metadata": {},
   "outputs": [
    {
     "name": "stdout",
     "output_type": "stream",
     "text": [
      "Accuracy: 0.8682926829268293\n",
      "Precision: 0.9583333333333334\n",
      "Recall: 0.22330097087378642\n",
      "F1-score: 0.36220472440944884\n"
     ]
    }
   ],
   "source": [
    "accuracy = accuracy_score(y_test, y_pred_hbn)\n",
    "print(\"Accuracy:\", accuracy)\n",
    "\n",
    "precision = precision_score(y_test, y_pred_hbn)\n",
    "print(\"Precision:\", precision)\n",
    "\n",
    "recall = recall_score(y_test, y_pred_hbn)\n",
    "print(\"Recall:\", recall)\n",
    "\n",
    "f1 = f1_score(y_test, y_pred_hbn)\n",
    "print(\"F1-score:\", f1)"
   ]
  },
  {
   "cell_type": "code",
   "execution_count": 27,
   "id": "5f177432",
   "metadata": {},
   "outputs": [
    {
     "name": "stdout",
     "output_type": "stream",
     "text": [
      "Confusion Matrix:\n",
      "[[511   1]\n",
      " [ 80  23]]\n"
     ]
    }
   ],
   "source": [
    "cm = confusion_matrix(y_test, y_pred_hbn)\n",
    "print(\"Confusion Matrix:\")\n",
    "print(cm)"
   ]
  },
  {
   "cell_type": "code",
   "execution_count": 28,
   "id": "84d5fcec",
   "metadata": {},
   "outputs": [],
   "source": [
    "cm_df = pd.DataFrame(cm, index=['Actual 0', 'Actual 1'], columns=['Predicted 0', 'Predicted 1'])"
   ]
  },
  {
   "cell_type": "code",
   "execution_count": 29,
   "id": "fb957973",
   "metadata": {},
   "outputs": [
    {
     "data": {
      "text/html": [
       "<div>\n",
       "<style scoped>\n",
       "    .dataframe tbody tr th:only-of-type {\n",
       "        vertical-align: middle;\n",
       "    }\n",
       "\n",
       "    .dataframe tbody tr th {\n",
       "        vertical-align: top;\n",
       "    }\n",
       "\n",
       "    .dataframe thead th {\n",
       "        text-align: right;\n",
       "    }\n",
       "</style>\n",
       "<table border=\"1\" class=\"dataframe\">\n",
       "  <thead>\n",
       "    <tr style=\"text-align: right;\">\n",
       "      <th></th>\n",
       "      <th>Predicted 0</th>\n",
       "      <th>Predicted 1</th>\n",
       "    </tr>\n",
       "  </thead>\n",
       "  <tbody>\n",
       "    <tr>\n",
       "      <th>Actual 0</th>\n",
       "      <td>511</td>\n",
       "      <td>1</td>\n",
       "    </tr>\n",
       "    <tr>\n",
       "      <th>Actual 1</th>\n",
       "      <td>80</td>\n",
       "      <td>23</td>\n",
       "    </tr>\n",
       "  </tbody>\n",
       "</table>\n",
       "</div>"
      ],
      "text/plain": [
       "          Predicted 0  Predicted 1\n",
       "Actual 0          511            1\n",
       "Actual 1           80           23"
      ]
     },
     "execution_count": 29,
     "metadata": {},
     "output_type": "execute_result"
    }
   ],
   "source": [
    "cm_df"
   ]
  },
  {
   "cell_type": "code",
   "execution_count": 30,
   "id": "d3bb9872",
   "metadata": {},
   "outputs": [
    {
     "data": {
      "image/png": "[encoded data removed]",
      "text/plain": [
       "<Figure size 576x432 with 2 Axes>"
      ]
     },
     "metadata": {
      "needs_background": "light"
     },
     "output_type": "display_data"
    }
   ],
   "source": [
    "plt.figure(figsize=(8, 6))\n",
    "sns.heatmap(cm_df, annot=True, fmt='d', cmap='Blues')\n",
    "\n",
    "plt.xlabel('Predicted')\n",
    "plt.ylabel('Actual')\n",
    "plt.title('Confusion Matrix')\n",
    "plt.xticks([0.5, 1.5], ['0', '1'])\n",
    "plt.yticks([0.5, 1.5], ['0', '1'])\n",
    "\n",
    "plt.show()"
   ]
  },
  {
   "cell_type": "code",
   "execution_count": 31,
   "id": "0444507a",
   "metadata": {},
   "outputs": [
    {
     "name": "stdout",
     "output_type": "stream",
     "text": [
      "              precision    recall  f1-score   support\n",
      "\n",
      "           0       0.86      1.00      0.93       512\n",
      "           1       0.96      0.22      0.36       103\n",
      "\n",
      "    accuracy                           0.87       615\n",
      "   macro avg       0.91      0.61      0.64       615\n",
      "weighted avg       0.88      0.87      0.83       615\n",
      "\n"
     ]
    }
   ],
   "source": [
    "report = classification_report(y_test,y_pred_hbn)\n",
    "\n",
    "print(report)"
   ]
  },
  {
   "cell_type": "markdown",
   "id": "01fa78fb",
   "metadata": {},
   "source": [
    "# BAYESIAN BELIEF NETWORK"
   ]
  },
  {
   "cell_type": "code",
   "execution_count": 32,
   "id": "facc9fa6",
   "metadata": {},
   "outputs": [],
   "source": [
    "from pgmpy.models import BayesianModel\n",
    "from pgmpy.estimators import MaximumLikelihoodEstimator\n",
    "from pgmpy.inference import VariableElimination\n",
    "from sklearn.metrics import accuracy_score, confusion_matrix"
   ]
  },
  {
   "cell_type": "code",
   "execution_count": 33,
   "id": "c42b6881",
   "metadata": {},
   "outputs": [],
   "source": [
    "from sklearn.base import BaseEstimator, ClassifierMixin\n",
    "class BBNClassifier(BaseEstimator, ClassifierMixin):\n",
    "    def __init__(self):\n",
    "        self.bbn_model = None\n",
    "\n",
    "    def fit(self, X, y):\n",
    "        self.bbn_model = BayesianModel()\n",
    "        col = df.columns\n",
    "        states = {col[i]: ['0', '1'] for i in range(len(col) - 1)} \n",
    "        self.bbn_model.add_nodes_from(states.keys())\n",
    "        for i in range(len(col) - 1):\n",
    "            self.bbn_model.add_edge(col[i], col[i + 1])\n",
    "        self.bbn_model.fit(df, estimator=MaximumLikelihoodEstimator, complete_samples_only=False)\n",
    "        return self\n",
    "\n",
    "    def predict(self, X):\n",
    "        return self.bbn_model.predict(X)"
   ]
  },
  {
   "cell_type": "code",
   "execution_count": 34,
   "id": "16849387",
   "metadata": {},
   "outputs": [],
   "source": [
    "\n",
    "col=df.columns\n",
    "X=df.drop('isFradulent',axis=1)\n",
    "y=df['isFradulent']\n",
    "X_train,X_test,y_train,y_test=train_test_split(X,y,test_size=0.2,random_state=0)\n",
    "oversampler = RandomOverSampler(random_state=21)\n",
    "X_train_over, y_train_over = oversampler.fit_resample(X_train, y_train)\n"
   ]
  },
  {
   "cell_type": "code",
   "execution_count": 35,
   "id": "93c48e6d",
   "metadata": {},
   "outputs": [
    {
     "name": "stderr",
     "output_type": "stream",
     "text": [
      "100%|████████████████████████████████████████████████████████████████████████████████| 615/615 [05:36<00:00,  1.83it/s]\n"
     ]
    }
   ],
   "source": [
    "bbn_classifier = BBNClassifier()\n",
    "bbn_classifier.fit(X_train_over, y_train_over)\n",
    "\n",
    "predictions = bbn_classifier.predict(X_test)"
   ]
  },
  {
   "cell_type": "code",
   "execution_count": 47,
   "id": "ca653ad5",
   "metadata": {},
   "outputs": [
    {
     "name": "stdout",
     "output_type": "stream",
     "text": [
      "Accuracy: 0.8959349593495934\n",
      "Precision: 0.8518518518518519\n",
      "Recall: 0.27710843373493976\n",
      "F1-score: 0.41818181818181815\n"
     ]
    }
   ],
   "source": [
    "accuracy = accuracy_score(y_test, predictions)\n",
    "print(\"Accuracy:\", accuracy)\n",
    "\n",
    "\n",
    "precision = precision_score(y_test, predictions)\n",
    "print(\"Precision:\", precision)\n",
    "\n",
    "\n",
    "recall = recall_score(y_test, predictions)\n",
    "print(\"Recall:\", recall)\n",
    "\n",
    "\n",
    "f1 = f1_score(y_test, predictions)\n",
    "print(\"F1-score:\", f1)"
   ]
  },
  {
   "cell_type": "code",
   "execution_count": null,
   "id": "a4e030ca",
   "metadata": {},
   "outputs": [],
   "source": [
    "cm = confusion_matrix(predictions,y_test)\n",
    "print(\"Confusion Matrix:\")\n",
    "print(cm)"
   ]
  },
  {
   "cell_type": "code",
   "execution_count": 45,
   "id": "0427492c",
   "metadata": {},
   "outputs": [],
   "source": [
    "cm_df = pd.DataFrame(cm, index=['Actual 0', 'Actual 1'], columns=['Predicted 0', 'Predicted 1'])"
   ]
  },
  {
   "cell_type": "code",
   "execution_count": 41,
   "id": "2f44956c",
   "metadata": {
    "scrolled": true
   },
   "outputs": [
    {
     "data": {
      "image/png": "[encoded data removed]",
      "text/plain": [
       "<Figure size 576x432 with 2 Axes>"
      ]
     },
     "metadata": {
      "needs_background": "light"
     },
     "output_type": "display_data"
    }
   ],
   "source": [
    "plt.figure(figsize=(8, 6))\n",
    "sns.heatmap(cm_df, annot=True, fmt='d', cmap='Blues')\n",
    "\n",
    "plt.xlabel('Predicted')\n",
    "plt.ylabel('Actual')\n",
    "plt.title('Confusion Matrix')\n",
    "plt.xticks([0.5, 1.5], ['0', '1'])\n",
    "plt.yticks([0.5, 1.5], ['0', '1'])\n",
    "\n",
    "plt.show()"
   ]
  },
  {
   "cell_type": "code",
   "execution_count": 42,
   "id": "b9555c1f",
   "metadata": {
    "scrolled": true
   },
   "outputs": [
    {
     "name": "stdout",
     "output_type": "stream",
     "text": [
      "              precision    recall  f1-score   support\n",
      "\n",
      "           0       0.99      0.90      0.94       588\n",
      "           1       0.28      0.85      0.42        27\n",
      "\n",
      "    accuracy                           0.90       615\n",
      "   macro avg       0.63      0.87      0.68       615\n",
      "weighted avg       0.96      0.90      0.92       615\n",
      "\n"
     ]
    }
   ],
   "source": [
    "report = classification_report(predictions,y_test)\n",
    "print(report)"
   ]
  },
  {
   "cell_type": "code",
   "execution_count": null,
   "id": "a376f303",
   "metadata": {},
   "outputs": [],
   "source": []
  }
 ],
 "metadata": {
  "kernelspec": {
   "display_name": "Python 3 (ipykernel)",
   "language": "python",
   "name": "python3"
  },
  "language_info": {
   "codemirror_mode": {
    "name": "ipython",
    "version": 3
   },
   "file_extension": ".py",
   "mimetype": "text/x-python",
   "name": "python",
   "nbconvert_exporter": "python",
   "pygments_lexer": "ipython3",
   "version": "3.9.7"
  }
 },
 "nbformat": 4,
 "nbformat_minor": 5
}
